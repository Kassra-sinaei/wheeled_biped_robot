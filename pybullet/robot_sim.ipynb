{
 "cells": [
  {
   "cell_type": "markdown",
   "metadata": {},
   "source": [
    "<b>Check URDF export</b> <br>\n",
    "<i> simplified model of a wheeled biped robot</i><br>\n",
    "<i> !! closed chain not working !!</i>"
   ]
  },
  {
   "cell_type": "markdown",
   "metadata": {},
   "source": [
    "importing required packages"
   ]
  },
  {
   "cell_type": "code",
   "execution_count": 1,
   "metadata": {},
   "outputs": [],
   "source": [
    "import pybullet\n",
    "import time\n",
    "import pybullet_data\n",
    "import numpy as np"
   ]
  },
  {
   "cell_type": "markdown",
   "metadata": {},
   "source": [
    "Start PyBullet"
   ]
  },
  {
   "cell_type": "code",
   "execution_count": 53,
   "metadata": {},
   "outputs": [],
   "source": [
    "phisycsClient = pybullet.connect(pybullet.GUI)\n",
    "pybullet.setAdditionalSearchPath(pybullet_data.getDataPath())"
   ]
  },
  {
   "cell_type": "markdown",
   "metadata": {},
   "source": [
    "Spawn robot..."
   ]
  },
  {
   "cell_type": "code",
   "execution_count": 55,
   "metadata": {},
   "outputs": [
    {
     "ename": "error",
     "evalue": "Cannot load SDF file.",
     "output_type": "error",
     "traceback": [
      "\u001b[0;31m---------------------------------------------------------------------------\u001b[0m",
      "\u001b[0;31merror\u001b[0m                                     Traceback (most recent call last)",
      "\u001b[0;32m<ipython-input-55-31a23e701c0b>\u001b[0m in \u001b[0;36m<module>\u001b[0;34m\u001b[0m\n\u001b[1;32m      8\u001b[0m \"\"\"\n\u001b[1;32m      9\u001b[0m \u001b[0;31m#\u001b[0m\u001b[0;34m\u001b[0m\u001b[0;34m\u001b[0m\u001b[0;34m\u001b[0m\u001b[0m\n\u001b[0;32m---> 10\u001b[0;31m \u001b[0mrobotID\u001b[0m \u001b[0;34m=\u001b[0m \u001b[0mpybullet\u001b[0m\u001b[0;34m.\u001b[0m\u001b[0mloadSDF\u001b[0m\u001b[0;34m(\u001b[0m\u001b[0;34m\"/robot_sim/robot.sdf\"\u001b[0m\u001b[0;34m)\u001b[0m\u001b[0;34m\u001b[0m\u001b[0;34m\u001b[0m\u001b[0m\n\u001b[0m\u001b[1;32m     11\u001b[0m \"\"\"\n\u001b[1;32m     12\u001b[0m \u001b[0m_link_name_to_index\u001b[0m \u001b[0;34m=\u001b[0m \u001b[0;34m{\u001b[0m\u001b[0mpybullet\u001b[0m\u001b[0;34m.\u001b[0m\u001b[0mgetBodyInfo\u001b[0m\u001b[0;34m(\u001b[0m\u001b[0mrobotID\u001b[0m\u001b[0;34m)\u001b[0m\u001b[0;34m[\u001b[0m\u001b[0;36m0\u001b[0m\u001b[0;34m]\u001b[0m\u001b[0;34m.\u001b[0m\u001b[0mdecode\u001b[0m\u001b[0;34m(\u001b[0m\u001b[0;34m'UTF-8'\u001b[0m\u001b[0;34m)\u001b[0m\u001b[0;34m:\u001b[0m\u001b[0;34m-\u001b[0m\u001b[0;36m1\u001b[0m\u001b[0;34m,\u001b[0m\u001b[0;34m}\u001b[0m\u001b[0;34m\u001b[0m\u001b[0;34m\u001b[0m\u001b[0m\n",
      "\u001b[0;31merror\u001b[0m: Cannot load SDF file."
     ]
    }
   ],
   "source": [
    "pybullet.resetSimulation()\n",
    "planeID = pybullet.loadURDF(\"plane.urdf\")\n",
    "pybullet.setGravity(0,0,-9.81)\n",
    "\"\"\"\n",
    "robotID = pybullet.loadURDF(\"robot_sim/urdf/robot_sim.urdf\",\n",
    "                         [0.0,0.0,0.28641],pybullet.getQuaternionFromEuler([0.0,0.0,0.0]),\n",
    "                            useFixedBase = 1)\n",
    "\"\"\"\n",
    "#\n",
    "robotID = pybullet.loadSDF(\"/robot_sim/robot.sdf\")\n",
    "\"\"\"\n",
    "_link_name_to_index = {pybullet.getBodyInfo(robotID)[0].decode('UTF-8'):-1,}\n",
    "        \n",
    "for _id in range(pybullet.getNumJoints(robotID)):\n",
    "    _name = pybullet.getJointInfo(robotID, _id)[12].decode('UTF-8')\n",
    "    _link_name_to_index[_name] = _id\n",
    "print(_link_name_to_index)\"\"\"\n",
    "pybullet.setRealTimeSimulation(1)"
   ]
  },
  {
   "cell_type": "code",
   "execution_count": 117,
   "metadata": {},
   "outputs": [
    {
     "name": "stdout",
     "output_type": "stream",
     "text": [
      "left chain not created!\n",
      "left chain not created!\n",
      "0\n"
     ]
    }
   ],
   "source": [
    "try:\n",
    "    l_chain = pybullet.createConstraint(robotID,6,robotID,9,pybullet.JOINT_REVOLUTE,\n",
    "                                        [0,0,1.0],\n",
    "                                        [-0.14,0,0],\n",
    "                                        [0.11,0.0,0.0])\n",
    "except:\n",
    "    print(\"left chain not created!\")\n",
    "try:\n",
    "    r_chain = pybullet.createConstraint(robotID,1,robotID,4,pybullet.JOINT_REVOLUTE,\n",
    "                                    [0,0,1.0],\n",
    "                                    [-0.14,0.0,0.0],\n",
    "                                    [0.11,0.0,0.0])\n",
    "except:\n",
    "    print(\"left chain not created!\")\n",
    "print(pybullet.getNumConstraints())"
   ]
  },
  {
   "cell_type": "markdown",
   "metadata": {},
   "source": [
    "Joint Info + Home ..."
   ]
  },
  {
   "cell_type": "code",
   "execution_count": 33,
   "metadata": {},
   "outputs": [
    {
     "name": "stdout",
     "output_type": "stream",
     "text": [
      "(0, b'base_rhip') 0.0\n",
      "(1, b'r_hip_shank') 0.0\n",
      "(2, b'r_shank_wheel') 0.0\n",
      "(3, b'r_hip_r') 0.0\n",
      "(4, b'r_r_l') 0.0\n",
      "(5, b'base_lhip') 0.0\n",
      "(6, b'l_hip_shank') 0.0\n",
      "(7, b'l_shank_wheel') 0.0\n",
      "(8, b'l_hip_r') 0.0\n",
      "(9, b'l_r_l') 0.0\n",
      "------------------\n",
      "(0.0711031872430424, -0.107448999999916, 0.21883792837360286)\n",
      "(0.09348127835078315, -0.11249979655774912, 0.12116451256132316)\n",
      "(-0.031486234879859104, -0.1299253028384368, 0.054499847161946016)\n",
      "(0.019530188809507423, -0.1087500909738607, 0.3020167044335298)\n",
      "(0.12565771675847737, -0.11122682950498727, 0.2531878167907326)\n",
      "(0.07110334805910688, 0.10744899999999952, 0.21883809759385559)\n",
      "(0.0934825794474595, 0.11250000000000229, 0.12116297495757221)\n",
      "(-0.03148247948780915, 0.1299260000000032, 0.05449383806256282)\n",
      "(0.019530193735164375, 0.11124999999999975, 0.3020167784205118)\n",
      "(0.12565782139676396, 0.11372659999999951, 0.2531881004728792)\n"
     ]
    }
   ],
   "source": [
    "for index in range(pybullet.getNumJoints(robotID)):\n",
    "    print(pybullet.getJointInfo(robotID,index)[0:2],\n",
    "          pybullet.getJointState(robotID,pybullet.getJointInfo(robotID,index)[0])[0])\n",
    "print(\"------------------\")\n",
    "for index in range(10):\n",
    "    print(pybullet.getLinkState(robotID,index)[0])"
   ]
  },
  {
   "cell_type": "code",
   "execution_count": 66,
   "metadata": {},
   "outputs": [],
   "source": [
    "pybullet.setRealTimeSimulation(1)"
   ]
  },
  {
   "cell_type": "code",
   "execution_count": 56,
   "metadata": {},
   "outputs": [],
   "source": [
    "pybullet.disconnect()"
   ]
  }
 ],
 "metadata": {
  "kernelspec": {
   "display_name": "Python 3",
   "language": "python",
   "name": "python3"
  },
  "language_info": {
   "codemirror_mode": {
    "name": "ipython",
    "version": 3
   },
   "file_extension": ".py",
   "mimetype": "text/x-python",
   "name": "python",
   "nbconvert_exporter": "python",
   "pygments_lexer": "ipython3",
   "version": "3.6.9"
  }
 },
 "nbformat": 4,
 "nbformat_minor": 4
}
